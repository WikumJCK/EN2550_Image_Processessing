{
 "cells": [
  {
   "cell_type": "markdown",
   "metadata": {},
   "source": [
    "# Index No : 190328V\n",
    "# Name     : KUMARA B.W.J.C."
   ]
  },
  {
   "cell_type": "markdown",
   "metadata": {},
   "source": [
    "% "
   ]
  }
 ],
 "metadata": {
  "interpreter": {
   "hash": "cba790f90a5c1693da64949815872a1391a216ed3eb293d49638652b557fa5c0"
  },
  "kernelspec": {
   "display_name": "Python 3.9.10 64-bit (system)",
   "name": "python3"
  },
  "language_info": {
   "codemirror_mode": {
    "name": "ipython",
    "version": 3
   },
   "file_extension": ".py",
   "mimetype": "text/x-python",
   "name": "python",
   "nbconvert_exporter": "python",
   "pygments_lexer": "ipython3",
   "version": "3.9.10"
  },
  "orig_nbformat": 4
 },
 "nbformat": 4,
 "nbformat_minor": 2
}
